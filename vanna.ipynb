{
 "cells": [
  {
   "cell_type": "code",
   "execution_count": 1,
   "id": "e858f4af",
   "metadata": {},
   "outputs": [],
   "source": [
    "from vanna.openai import OpenAI_Chat\n",
    "from vanna.vannadb import VannaDB_VectorStore"
   ]
  },
  {
   "cell_type": "code",
   "execution_count": null,
   "id": "9b7aee95",
   "metadata": {},
   "outputs": [],
   "source": [
    "class MyVanna(VannaDB_VectorStore, OpenAI_Chat):\n",
    "    def __init__(self, config=None):\n",
    "        MY_VANNA_MODEL = \"\"\n",
    "        MY_VANNA_API_KEY = \"\"\n",
    "        VannaDB_VectorStore.__init__(self, vanna_model=MY_VANNA_MODEL, vanna_api_key=MY_VANNA_API_KEY, config=config)\n",
    "        OpenAI_Chat.__init__(self, config=config)\n",
    "\n",
    "vn = MyVanna(config={'api_key': '', 'model': 'gpt-4o'})"
   ]
  },
  {
   "cell_type": "code",
   "execution_count": 4,
   "id": "4d8278e8",
   "metadata": {},
   "outputs": [
    {
     "name": "stdout",
     "output_type": "stream",
     "text": [
      "Adding ddl: \n",
      "CREATE TABLE ads_metrics_daily (\n",
      "    date date,\n",
      "    spend float,\n",
      "    conversions int,\n",
      "    cac float,\n",
      "    roas float\n",
      ")\n",
      "\n"
     ]
    },
    {
     "data": {
      "text/plain": [
       "'18223135-ddl'"
      ]
     },
     "execution_count": 4,
     "metadata": {},
     "output_type": "execute_result"
    }
   ],
   "source": [
    "vn.train(\n",
    "    ddl=\"\"\"\n",
    "CREATE TABLE ads_metrics_daily (\n",
    "    date date,\n",
    "    spend float,\n",
    "    conversions int,\n",
    "    cac float,\n",
    "    roas float\n",
    ")\n",
    "\"\"\"\n",
    ")"
   ]
  },
  {
   "cell_type": "code",
   "execution_count": 5,
   "id": "4b76d9e9",
   "metadata": {},
   "outputs": [
    {
     "name": "stdout",
     "output_type": "stream",
     "text": [
      "Adding ddl: \n",
      "CREATE TABLE ads_metrics_last_30_vs_prior (\n",
      "    period varchar(20),\n",
      "    spend float,\n",
      "    conversions BIGINT,\n",
      "    cac float,\n",
      "    roas float\n",
      ")\n",
      "\n"
     ]
    },
    {
     "data": {
      "text/plain": [
       "'18223136-ddl'"
      ]
     },
     "execution_count": 5,
     "metadata": {},
     "output_type": "execute_result"
    }
   ],
   "source": [
    "vn.train(\n",
    "    ddl=\"\"\"\n",
    "CREATE TABLE ads_metrics_last_30_vs_prior (\n",
    "    period varchar(20),\n",
    "    spend float,\n",
    "    conversions BIGINT,\n",
    "    cac float,\n",
    "    roas float\n",
    ")\n",
    "\"\"\"\n",
    ")"
   ]
  },
  {
   "cell_type": "code",
   "execution_count": 6,
   "id": "42178d4c",
   "metadata": {},
   "outputs": [
    {
     "name": "stdout",
     "output_type": "stream",
     "text": [
      "Adding ddl: \n",
      "CREATE TABLE ads_metrics_compact (\n",
      "    spend_last float,\n",
      "    spend_prior float,\n",
      "    spend_delta_pct float,\n",
      "    conv_last int,\n",
      "    conv_prior int,\n",
      "    conv_delta_pct float,\n",
      "    cac_last float,\n",
      "    cac_prior float,\n",
      "    cac_delta_pct float,\n",
      "    roas_last float,\n",
      "    roas_prior float,\n",
      "    roas_delta_pct float\n",
      ")\n",
      "\n"
     ]
    },
    {
     "data": {
      "text/plain": [
       "'18223137-ddl'"
      ]
     },
     "execution_count": 6,
     "metadata": {},
     "output_type": "execute_result"
    }
   ],
   "source": [
    "vn.train(\n",
    "    ddl=\"\"\"\n",
    "CREATE TABLE ads_metrics_compact (\n",
    "    spend_last float,\n",
    "    spend_prior float,\n",
    "    spend_delta_pct float,\n",
    "    conv_last int,\n",
    "    conv_prior int,\n",
    "    conv_delta_pct float,\n",
    "    cac_last float,\n",
    "    cac_prior float,\n",
    "    cac_delta_pct float,\n",
    "    roas_last float,\n",
    "    roas_prior float,\n",
    "    roas_delta_pct float\n",
    ")\n",
    "\"\"\"\n",
    ")"
   ]
  },
  {
   "cell_type": "code",
   "execution_count": 9,
   "id": "47c0db97",
   "metadata": {},
   "outputs": [
    {
     "name": "stdout",
     "output_type": "stream",
     "text": [
      "Adding documentation....\n"
     ]
    },
    {
     "data": {
      "text/plain": [
       "'3447866-doc'"
      ]
     },
     "execution_count": 9,
     "metadata": {},
     "output_type": "execute_result"
    }
   ],
   "source": [
    "vn.train(\n",
    "    documentation=\"The SQL code must be created for DuckDB.\"\n",
    ")"
   ]
  },
  {
   "cell_type": "code",
   "execution_count": 8,
   "id": "162f525c",
   "metadata": {},
   "outputs": [
    {
     "name": "stdout",
     "output_type": "stream",
     "text": [
      "Adding documentation....\n"
     ]
    },
    {
     "data": {
      "text/plain": [
       "'3447865-doc'"
      ]
     },
     "execution_count": 8,
     "metadata": {},
     "output_type": "execute_result"
    }
   ],
   "source": [
    "vn.train(\n",
    "    documentation=\"If the user asks something about the metrics in a range of dates you must use the table 'ads_metrics_daily'.\"\n",
    ")"
   ]
  },
  {
   "cell_type": "code",
   "execution_count": 10,
   "id": "fd1e2f33",
   "metadata": {},
   "outputs": [
    {
     "name": "stdout",
     "output_type": "stream",
     "text": [
      "Adding documentation....\n"
     ]
    },
    {
     "data": {
      "text/plain": [
       "'3447867-doc'"
      ]
     },
     "execution_count": 10,
     "metadata": {},
     "output_type": "execute_result"
    }
   ],
   "source": [
    "vn.train(\n",
    "    documentation=\"If the user needs to compare CAC and ROAS for last 30 days vs prior 30 days you must use the table 'ads_metrics_last_30_vs_prior'.\"\n",
    ")"
   ]
  },
  {
   "cell_type": "code",
   "execution_count": 11,
   "id": "79684de9",
   "metadata": {},
   "outputs": [
    {
     "name": "stdout",
     "output_type": "stream",
     "text": [
      "Adding documentation....\n"
     ]
    },
    {
     "data": {
      "text/plain": [
       "'3447868-doc'"
      ]
     },
     "execution_count": 11,
     "metadata": {},
     "output_type": "execute_result"
    }
   ],
   "source": [
    "vn.train(\n",
    "    documentation=\"If the user needs to compact the the comparation of last 30 days vs prior 30 days with its deltas you must use the table 'ads_metrics_compact '.\"\n",
    ")"
   ]
  },
  {
   "cell_type": "code",
   "execution_count": 5,
   "id": "2bdb61bc",
   "metadata": {},
   "outputs": [
    {
     "data": {
      "text/plain": [
       "'e5f1d0656f45afc4f57bcf4ec89b15dc-sql'"
      ]
     },
     "execution_count": 5,
     "metadata": {},
     "output_type": "execute_result"
    }
   ],
   "source": [
    "vn.train(\n",
    "    question=\"I want the ROA and CAC between 2025-01-03 and 2025-01-15\",\n",
    "    sql=\"\"\"\n",
    "select\n",
    "    date,\n",
    "    cac,\n",
    "    roas\n",
    "from ads_metrics_daily\n",
    "where date between '2025-01-03' and '2025-01-15'\n",
    "\"\"\"\n",
    ")"
   ]
  },
  {
   "cell_type": "code",
   "execution_count": 22,
   "id": "11042061",
   "metadata": {},
   "outputs": [
    {
     "data": {
      "text/plain": [
       "'b6a4ce5f45ed99cfb38f1510e9b8ce59-sql'"
      ]
     },
     "execution_count": 22,
     "metadata": {},
     "output_type": "execute_result"
    }
   ],
   "source": [
    "vn.train(\n",
    "    question=\"Compare CAC and ROAS for last 30 days vs prior 30 days.\",\n",
    "    sql=\"\"\"\n",
    "select\n",
    "    date,\n",
    "    cac,\n",
    "    roas\n",
    "from ads_metrics_last_30_vs_prior\n",
    "\"\"\"\n",
    ")"
   ]
  },
  {
   "cell_type": "code",
   "execution_count": 23,
   "id": "41401a5a",
   "metadata": {},
   "outputs": [
    {
     "data": {
      "text/plain": [
       "'f88f9414490faa0bcef73159921772c1-sql'"
      ]
     },
     "execution_count": 23,
     "metadata": {},
     "output_type": "execute_result"
    }
   ],
   "source": [
    "vn.train(\n",
    "    question=\"Compact the comparation of CAC and ROAS for last 30 days vs prior 30 days with its deltas\",\n",
    "    sql=\"\"\"\n",
    "select\n",
    "    *\n",
    "from ads_metrics_compact\n",
    "\"\"\"\n",
    ")"
   ]
  },
  {
   "cell_type": "code",
   "execution_count": 6,
   "id": "1665ab04",
   "metadata": {},
   "outputs": [
    {
     "data": {
      "application/vnd.microsoft.datawrangler.viewer.v0+json": {
       "columns": [
        {
         "name": "index",
         "rawType": "int64",
         "type": "integer"
        },
        {
         "name": "id",
         "rawType": "object",
         "type": "string"
        },
        {
         "name": "training_data_type",
         "rawType": "object",
         "type": "string"
        },
        {
         "name": "question",
         "rawType": "object",
         "type": "unknown"
        },
        {
         "name": "content",
         "rawType": "object",
         "type": "string"
        }
       ],
       "ref": "4bcf2e87-4061-497b-9ff7-52b3f8ac9cef",
       "rows": [
        [
         "0",
         "3447868-doc",
         "documentation",
         null,
         "If the user needs to compact the the comparation of last 30 days vs prior 30 days with its deltas you must use the table 'ads_metrics_compact '."
        ],
        [
         "1",
         "3447865-doc",
         "documentation",
         null,
         "If the user asks something about the metrics in a range of dates you must use the table 'ads_metrics_daily'."
        ],
        [
         "2",
         "1232722-sql",
         "sql",
         "I want the ROA and CAC between 2025-01-03 and 2025-01-15",
         "\nselect\n    date,\n    cac,\n    roas\nfrom ads_metrics_daily\nwhere date between '2025-01-03' and '2025-01-15'\n"
        ],
        [
         "3",
         "3447866-doc",
         "documentation",
         null,
         "The SQL code must be created for DuckDB."
        ],
        [
         "4",
         "1232721-sql",
         "sql",
         "Compact the comparation of CAC and ROAS for last 30 days vs prior 30 days with its deltas",
         "\nselect\n    *\nfrom ads_metrics_compact\n"
        ],
        [
         "5",
         "3447867-doc",
         "documentation",
         null,
         "If the user needs to compare CAC and ROAS for last 30 days vs prior 30 days you must use the table 'ads_metrics_last_30_vs_prior'."
        ],
        [
         "6",
         "18223135-ddl",
         "ddl",
         null,
         "\nCREATE TABLE ads_metrics_daily (\n    date date,\n    spend float,\n    conversions int,\n    cac float,\n    roas float\n)\n"
        ],
        [
         "7",
         "18223137-ddl",
         "ddl",
         null,
         "\nCREATE TABLE ads_metrics_compact (\n    spend_last float,\n    spend_prior float,\n    spend_delta_pct float,\n    conv_last int,\n    conv_prior int,\n    conv_delta_pct float,\n    cac_last float,\n    cac_prior float,\n    cac_delta_pct float,\n    roas_last float,\n    roas_prior float,\n    roas_delta_pct float\n)\n"
        ],
        [
         "8",
         "1232720-sql",
         "sql",
         "Compare CAC and ROAS for last 30 days vs prior 30 days.",
         "\nselect\n    date,\n    cac,\n    roas\nfrom ads_metrics_last_30_vs_prior\n"
        ],
        [
         "9",
         "18223136-ddl",
         "ddl",
         null,
         "\nCREATE TABLE ads_metrics_last_30_vs_prior (\n    period varchar(20),\n    spend float,\n    conversions BIGINT,\n    cac float,\n    roas float\n)\n"
        ]
       ],
       "shape": {
        "columns": 4,
        "rows": 10
       }
      },
      "text/html": [
       "<div>\n",
       "<style scoped>\n",
       "    .dataframe tbody tr th:only-of-type {\n",
       "        vertical-align: middle;\n",
       "    }\n",
       "\n",
       "    .dataframe tbody tr th {\n",
       "        vertical-align: top;\n",
       "    }\n",
       "\n",
       "    .dataframe thead th {\n",
       "        text-align: right;\n",
       "    }\n",
       "</style>\n",
       "<table border=\"1\" class=\"dataframe\">\n",
       "  <thead>\n",
       "    <tr style=\"text-align: right;\">\n",
       "      <th></th>\n",
       "      <th>id</th>\n",
       "      <th>training_data_type</th>\n",
       "      <th>question</th>\n",
       "      <th>content</th>\n",
       "    </tr>\n",
       "  </thead>\n",
       "  <tbody>\n",
       "    <tr>\n",
       "      <th>0</th>\n",
       "      <td>3447868-doc</td>\n",
       "      <td>documentation</td>\n",
       "      <td>None</td>\n",
       "      <td>If the user needs to compact the the comparati...</td>\n",
       "    </tr>\n",
       "    <tr>\n",
       "      <th>1</th>\n",
       "      <td>3447865-doc</td>\n",
       "      <td>documentation</td>\n",
       "      <td>None</td>\n",
       "      <td>If the user asks something about the metrics i...</td>\n",
       "    </tr>\n",
       "    <tr>\n",
       "      <th>2</th>\n",
       "      <td>1232722-sql</td>\n",
       "      <td>sql</td>\n",
       "      <td>I want the ROA and CAC between 2025-01-03 and ...</td>\n",
       "      <td>\\nselect\\n    date,\\n    cac,\\n    roas\\nfrom ...</td>\n",
       "    </tr>\n",
       "    <tr>\n",
       "      <th>3</th>\n",
       "      <td>3447866-doc</td>\n",
       "      <td>documentation</td>\n",
       "      <td>None</td>\n",
       "      <td>The SQL code must be created for DuckDB.</td>\n",
       "    </tr>\n",
       "    <tr>\n",
       "      <th>4</th>\n",
       "      <td>1232721-sql</td>\n",
       "      <td>sql</td>\n",
       "      <td>Compact the comparation of CAC and ROAS for la...</td>\n",
       "      <td>\\nselect\\n    *\\nfrom ads_metrics_compact\\n</td>\n",
       "    </tr>\n",
       "    <tr>\n",
       "      <th>5</th>\n",
       "      <td>3447867-doc</td>\n",
       "      <td>documentation</td>\n",
       "      <td>None</td>\n",
       "      <td>If the user needs to compare CAC and ROAS for ...</td>\n",
       "    </tr>\n",
       "    <tr>\n",
       "      <th>6</th>\n",
       "      <td>18223135-ddl</td>\n",
       "      <td>ddl</td>\n",
       "      <td>None</td>\n",
       "      <td>\\nCREATE TABLE ads_metrics_daily (\\n    date d...</td>\n",
       "    </tr>\n",
       "    <tr>\n",
       "      <th>7</th>\n",
       "      <td>18223137-ddl</td>\n",
       "      <td>ddl</td>\n",
       "      <td>None</td>\n",
       "      <td>\\nCREATE TABLE ads_metrics_compact (\\n    spen...</td>\n",
       "    </tr>\n",
       "    <tr>\n",
       "      <th>8</th>\n",
       "      <td>1232720-sql</td>\n",
       "      <td>sql</td>\n",
       "      <td>Compare CAC and ROAS for last 30 days vs prior...</td>\n",
       "      <td>\\nselect\\n    date,\\n    cac,\\n    roas\\nfrom ...</td>\n",
       "    </tr>\n",
       "    <tr>\n",
       "      <th>9</th>\n",
       "      <td>18223136-ddl</td>\n",
       "      <td>ddl</td>\n",
       "      <td>None</td>\n",
       "      <td>\\nCREATE TABLE ads_metrics_last_30_vs_prior (\\...</td>\n",
       "    </tr>\n",
       "  </tbody>\n",
       "</table>\n",
       "</div>"
      ],
      "text/plain": [
       "             id training_data_type  \\\n",
       "0   3447868-doc      documentation   \n",
       "1   3447865-doc      documentation   \n",
       "2   1232722-sql                sql   \n",
       "3   3447866-doc      documentation   \n",
       "4   1232721-sql                sql   \n",
       "5   3447867-doc      documentation   \n",
       "6  18223135-ddl                ddl   \n",
       "7  18223137-ddl                ddl   \n",
       "8   1232720-sql                sql   \n",
       "9  18223136-ddl                ddl   \n",
       "\n",
       "                                            question  \\\n",
       "0                                               None   \n",
       "1                                               None   \n",
       "2  I want the ROA and CAC between 2025-01-03 and ...   \n",
       "3                                               None   \n",
       "4  Compact the comparation of CAC and ROAS for la...   \n",
       "5                                               None   \n",
       "6                                               None   \n",
       "7                                               None   \n",
       "8  Compare CAC and ROAS for last 30 days vs prior...   \n",
       "9                                               None   \n",
       "\n",
       "                                             content  \n",
       "0  If the user needs to compact the the comparati...  \n",
       "1  If the user asks something about the metrics i...  \n",
       "2  \\nselect\\n    date,\\n    cac,\\n    roas\\nfrom ...  \n",
       "3           The SQL code must be created for DuckDB.  \n",
       "4        \\nselect\\n    *\\nfrom ads_metrics_compact\\n  \n",
       "5  If the user needs to compare CAC and ROAS for ...  \n",
       "6  \\nCREATE TABLE ads_metrics_daily (\\n    date d...  \n",
       "7  \\nCREATE TABLE ads_metrics_compact (\\n    spen...  \n",
       "8  \\nselect\\n    date,\\n    cac,\\n    roas\\nfrom ...  \n",
       "9  \\nCREATE TABLE ads_metrics_last_30_vs_prior (\\...  "
      ]
     },
     "execution_count": 6,
     "metadata": {},
     "output_type": "execute_result"
    }
   ],
   "source": [
    "vn.get_training_data()"
   ]
  },
  {
   "cell_type": "code",
   "execution_count": 7,
   "id": "9b46a279",
   "metadata": {},
   "outputs": [
    {
     "name": "stdout",
     "output_type": "stream",
     "text": [
      "SQL Prompt: [{'role': 'system', 'content': \"You are a SQL expert. Please help to generate a SQL query to answer the question. Your response should ONLY be based on the given context and follow the response guidelines and format instructions. \\n===Tables \\n\\nCREATE TABLE ads_metrics_last_30_vs_prior (\\n    period varchar(20),\\n    spend float,\\n    conversions BIGINT,\\n    cac float,\\n    roas float\\n)\\n\\n\\n\\nCREATE TABLE ads_metrics_daily (\\n    date date,\\n    spend float,\\n    conversions int,\\n    cac float,\\n    roas float\\n)\\n\\n\\n\\nCREATE TABLE ads_metrics_compact (\\n    spend_last float,\\n    spend_prior float,\\n    spend_delta_pct float,\\n    conv_last int,\\n    conv_prior int,\\n    conv_delta_pct float,\\n    cac_last float,\\n    cac_prior float,\\n    cac_delta_pct float,\\n    roas_last float,\\n    roas_prior float,\\n    roas_delta_pct float\\n)\\n\\n\\n\\n===Additional Context \\n\\nIf the user needs to compare CAC and ROAS for last 30 days vs prior 30 days you must use the table 'ads_metrics_last_30_vs_prior'.\\n\\nIf the user asks something about the metrics in a range of dates you must use the table 'ads_metrics_daily'.\\n\\nIf the user needs to compact the the comparation of last 30 days vs prior 30 days with its deltas you must use the table 'ads_metrics_compact '.\\n\\nThe SQL code must be created for DuckDB.\\n\\n===Response Guidelines \\n1. If the provided context is sufficient, please generate a valid SQL query without any explanations for the question. \\n2. If the provided context is almost sufficient but requires knowledge of a specific string in a particular column, please generate an intermediate SQL query to find the distinct strings in that column. Prepend the query with a comment saying intermediate_sql \\n3. If the provided context is insufficient, please explain why it can't be generated. \\n4. Please use the most relevant table(s). \\n5. If the question has been asked and answered before, please repeat the answer exactly as it was given before. \\n6. Ensure that the output SQL is SQL-compliant and executable, and free of syntax errors. \\n\"}, {'role': 'user', 'content': 'I want the ROA and CAC between 2025-01-03 and 2025-01-15'}, {'role': 'assistant', 'content': \"\\nselect\\n    date,\\n    cac,\\n    roas\\nfrom ads_metrics_daily\\nwhere date between '2025-01-03' and '2025-01-15'\\n\"}, {'role': 'user', 'content': 'Compare CAC and ROAS for last 30 days vs prior 30 days.'}, {'role': 'assistant', 'content': '\\nselect\\n    date,\\n    cac,\\n    roas\\nfrom ads_metrics_last_30_vs_prior\\n'}, {'role': 'user', 'content': 'Compact the comparation of CAC and ROAS for last 30 days vs prior 30 days with its deltas'}, {'role': 'assistant', 'content': '\\nselect\\n    *\\nfrom ads_metrics_compact\\n'}, {'role': 'user', 'content': 'I want the ROA and CAC between 2025-01-03 and 2025-01-15'}]\n",
      "Using model gpt-4o for 613.25 tokens (approx)\n",
      "LLM Response: \n",
      "select\n",
      "    date,\n",
      "    cac,\n",
      "    roas\n",
      "from ads_metrics_daily\n",
      "where date between '2025-01-03' and '2025-01-15'\n",
      "\n"
     ]
    }
   ],
   "source": [
    "sql_code = vn.generate_sql(\"I want the ROA and CAC between 2025-01-03 and 2025-01-15\")"
   ]
  },
  {
   "cell_type": "code",
   "execution_count": 8,
   "id": "0cb05823",
   "metadata": {},
   "outputs": [
    {
     "data": {
      "text/plain": [
       "\"\\nselect\\n    date,\\n    cac,\\n    roas\\nfrom ads_metrics_daily\\nwhere date between '2025-01-03' and '2025-01-15'\\n\""
      ]
     },
     "execution_count": 8,
     "metadata": {},
     "output_type": "execute_result"
    }
   ],
   "source": [
    "sql_code"
   ]
  },
  {
   "cell_type": "code",
   "execution_count": null,
   "id": "4cfce89f",
   "metadata": {},
   "outputs": [],
   "source": []
  }
 ],
 "metadata": {
  "kernelspec": {
   "display_name": "shadowlight",
   "language": "python",
   "name": "python3"
  },
  "language_info": {
   "codemirror_mode": {
    "name": "ipython",
    "version": 3
   },
   "file_extension": ".py",
   "mimetype": "text/x-python",
   "name": "python",
   "nbconvert_exporter": "python",
   "pygments_lexer": "ipython3",
   "version": "3.9.23"
  }
 },
 "nbformat": 4,
 "nbformat_minor": 5
}
